{
 "cells": [
  {
   "cell_type": "code",
   "execution_count": 31,
   "metadata": {
    "collapsed": false
   },
   "outputs": [],
   "source": [
    "import random\n",
    "from __future__ import division\n",
    "import numpy as np\n",
    "from IPython.display import Image\n",
    "\n",
    "\n",
    "\n",
    "#import matplotlib.pyplot as plt\n"
   ]
  },
  {
   "cell_type": "code",
   "execution_count": 4,
   "metadata": {
    "collapsed": true
   },
   "outputs": [],
   "source": [
    "#Funzione che scrive su file\n",
    "def write_onfile(solution,fermat = False,mr = False,carmichael = False):\n",
    "    #s = map(str, solution)\n",
    "    \n",
    "    if fermat== True and mr == False and carmichael == True:\n",
    "        outF = open(\"Carmichael_numbers_F.txt\", \"w\")\n",
    "    elif fermat == False and mr == True and carmichael == True:\n",
    "        outF = open(\"Carmichael_numbers_MR.txt\", \"w\")\n",
    "    elif fermat== True and mr == False and carmichael == False:\n",
    "        outF = open(\"odd_numbers_F.txt\", \"w\")\n",
    "    elif fermat == False and mr == True and carmichael == False:\n",
    "        outF = open(\"odd_numbers_MR.txt\", \"w\")\n",
    "    #print type(solution)\n",
    "    #solution1 = str(solution)\n",
    "   \n",
    "    #print newstr1\n",
    "    \n",
    "    for i in solution:\n",
    "            stringa = \"Number = \"+str(i[0])+\"\\t Witnesses = \"+str(i[1])+\"\\t Error = \"+str(i[2])+\"\\n\"\n",
    "            outF.write(stringa)\n",
    "\n",
    "        \n",
    "    \n",
    "        \n",
    "        \n",
    "       \n",
    "        \n",
    "        \n",
    "        #outF.write(\"\\n\")\n",
    "    outF.close()    \n",
    "   "
   ]
  },
  {
   "cell_type": "code",
   "execution_count": 34,
   "metadata": {
    "collapsed": false
   },
   "outputs": [
    {
     "data": {
      "text/plain": [
       "'\\n#funzione che stampa i valori su un file per poterli plottare mediante EXCELL, purtroppo ho dei problemi con pyplot\\ndef screma(solution,fermat = False,mr = False,carmichael = False):\\n    if fermat== True and mr == False and carmichael == True:\\n        outF = open(\"Carmichael_numbers_F_scremato.csv\", \"w\")\\n    elif fermat == False and mr == True and carmichael == True:\\n        outF = open(\"Carmichael_numbers_MR_scremato.csv\", \"w\")\\n    elif fermat== True and mr == False and carmichael == False:\\n        outF = open(\"odd_numbers_F_scremato.csv\", \"w\")\\n    elif fermat == False and mr == True and carmichael == False:\\n        outF = open(\"odd_numbers_MR_scremato.csv\", \"w\")\\n    #Funzione lambda che screma la lista togliendo tutti i numeri primi \\n    scremata = filter(lambda x: x[2] != 1, solution)\\n    \\n    for i in scremata:\\n            stringa = str(i[0])+\";\"+str(i[1])+\";\"+str(i[2])+\"\\n\"\\n            outF.write(stringa)\\n\\n    outF.close()    \\n'"
      ]
     },
     "execution_count": 34,
     "metadata": {},
     "output_type": "execute_result"
    }
   ],
   "source": [
    "'''\n",
    "#funzione che stampa i valori su un file per poterli plottare mediante EXCELL, purtroppo ho dei problemi con pyplot\n",
    "def screma(solution,fermat = False,mr = False,carmichael = False):\n",
    "    if fermat== True and mr == False and carmichael == True:\n",
    "        outF = open(\"Carmichael_numbers_F_scremato.csv\", \"w\")\n",
    "    elif fermat == False and mr == True and carmichael == True:\n",
    "        outF = open(\"Carmichael_numbers_MR_scremato.csv\", \"w\")\n",
    "    elif fermat== True and mr == False and carmichael == False:\n",
    "        outF = open(\"odd_numbers_F_scremato.csv\", \"w\")\n",
    "    elif fermat == False and mr == True and carmichael == False:\n",
    "        outF = open(\"odd_numbers_MR_scremato.csv\", \"w\")\n",
    "    #Funzione lambda che screma la lista togliendo tutti i numeri primi \n",
    "    scremata = filter(lambda x: x[2] != 1, solution)\n",
    "    \n",
    "    for i in scremata:\n",
    "            stringa = str(i[0])+\";\"+str(i[1])+\";\"+str(i[2])+\"\\n\"\n",
    "            outF.write(stringa)\n",
    "\n",
    "    outF.close()    \n",
    "'''"
   ]
  },
  {
   "cell_type": "code",
   "execution_count": 6,
   "metadata": {
    "collapsed": true
   },
   "outputs": [],
   "source": [
    "def test_fermat(n,a):\n",
    "    #a = random.randint(2,n-2)\n",
    "    if pow(a, n-1, n) != 1:\n",
    "        return True\n",
    "    return False"
   ]
  },
  {
   "cell_type": "code",
   "execution_count": 7,
   "metadata": {
    "collapsed": false
   },
   "outputs": [],
   "source": [
    "\n",
    "# Implementiamo il test di primalita' probabilistico di Miller-Rabin\n",
    "def scomponi(m):\n",
    "    ''' Restituisce la coppia \"(d, r)\" tale che \"d\" e' dispari e \"m = d * 2^r\"'''\n",
    "    r = 0\n",
    "    while(m%2 == 0):\n",
    "        #print m\n",
    "        r += 1\n",
    "        m = m//2\n",
    "    return m, r"
   ]
  },
  {
   "cell_type": "code",
   "execution_count": 8,
   "metadata": {
    "collapsed": true
   },
   "outputs": [],
   "source": [
    "#Funzione test di Miller Rabin \n",
    "def test_mr(n,a= None):\n",
    "    \n",
    "    d, r = scomponi(n-1)\n",
    "    #a = random.randint(2,n-2)\n",
    "    x = pow(a, d, n)\n",
    "    if x == 1 or x == n-1:\n",
    "        return False\n",
    "    for _ in range(r-1):\n",
    "        x = pow(x, 2, n)\n",
    "        if x == 1:\n",
    "            return True\n",
    "        if x == n-1:\n",
    "            return False\n",
    "    #return True"
   ]
  },
  {
   "cell_type": "markdown",
   "metadata": {},
   "source": [
    "# 1) Scrivere un programma che prenda in input un intero positivo dispari n e conti quanti sono gli interi $a \\in [2, n − 2]$ tali che $a^{n−1} \\not\\equiv 1\\ (\\textrm{mod}\\ n)$  (witness per n nel test di Fermat)."
   ]
  },
  {
   "cell_type": "code",
   "execution_count": 9,
   "metadata": {
    "collapsed": true
   },
   "outputs": [],
   "source": [
    "#Funzione che ritorna i witnesses e la probabilità di errore per il test di Fermat\n",
    "def get_fermat_witnesses(n):\n",
    "    #controllo se n è dispari \n",
    "    if n%2 == 0:\n",
    "        print \"n dev'essere dispari!\"\n",
    "        return 0\n",
    "    \n",
    "    witnesses_c_fermat = 0\n",
    "    liar_c_fermat = 0 \n",
    "    for t_num in range(2,n-1):\n",
    "        if test_fermat(n,t_num):\n",
    "            witnesses_c_fermat +=1 \n",
    "        else:\n",
    "\n",
    "            liar_c_fermat += 1\n",
    "\n",
    "    #print witnesses_c_fermat\n",
    "    tot = witnesses_c_fermat + liar_c_fermat\n",
    "    err_fermat = 1 - witnesses_c_fermat/ tot\n",
    "    #print tot\n",
    "    #print witnesses_c_fermat/ tot\n",
    "    return witnesses_c_fermat,err_fermat"
   ]
  },
  {
   "cell_type": "markdown",
   "metadata": {},
   "source": [
    "# 2) Scrivere un programma che prenda in input un intero positivo dispari n e conti quanti sono i witness per n nel test di Miller-Rabin."
   ]
  },
  {
   "cell_type": "code",
   "execution_count": 10,
   "metadata": {
    "collapsed": false
   },
   "outputs": [],
   "source": [
    "#Funzione che ritorna i witnesses e la probabilità di errore per il Test di Miller Rabin\n",
    "def get_mr_witnesses(n):\n",
    "    \n",
    "    witnesses_c_mr = 0\n",
    "    liar_c_mr =0 \n",
    "    if n%2 == 0:\n",
    "        print \"n dev'essere dispari!\"\n",
    "        return 0\n",
    "    for t_n in range(2,n-1):\n",
    "        if test_mr(n,t_n):\n",
    "            witnesses_c_mr += 1\n",
    "        else:\n",
    "            liar_c_mr += 1\n",
    "    #print witnesses_c_mr,liar_c_mr\n",
    "    tot = witnesses_c_mr+liar_c_mr\n",
    "    err_mr = 1 - (witnesses_c_mr/tot)\n",
    "    return witnesses_c_mr,err_mr"
   ]
  },
  {
   "cell_type": "markdown",
   "metadata": {},
   "source": [
    "# 3)  Eseguire i programmi dei due punti precedenti su un piccolo intervallo di numeri (per esempio, gli n dispari fra 2000 e 3000) e osservare quale sarebbe la probabilita' di errore dei due test."
   ]
  },
  {
   "cell_type": "markdown",
   "metadata": {},
   "source": [
    "## Witnesses Fermat "
   ]
  },
  {
   "cell_type": "code",
   "execution_count": 11,
   "metadata": {
    "collapsed": false
   },
   "outputs": [],
   "source": [
    "#Lista dei numeri dispari compresi tra 2000 e 3000\n",
    "dispari =[x for x in xrange(2000,3000) if x%2 == 1]\n",
    "\n"
   ]
  },
  {
   "cell_type": "code",
   "execution_count": 12,
   "metadata": {
    "collapsed": false
   },
   "outputs": [],
   "source": [
    "witnesses_fermat = []\n",
    "witnesses_f_d = []\n"
   ]
  },
  {
   "cell_type": "code",
   "execution_count": 13,
   "metadata": {
    "collapsed": false
   },
   "outputs": [],
   "source": [
    "#Lancio il test di fermat per i numeri dispari \n",
    "\n",
    "for i in dispari:\n",
    "    w_f,e_f = get_fermat_witnesses(i)\n",
    "    witnesses_fermat.append([w_f,e_f])\n",
    "k=0\n",
    "for i in dispari:\n",
    "    witnesses_f_d.append([i,witnesses_fermat[k][0],witnesses_fermat[k][1]])\n",
    "    k+=1\n"
   ]
  },
  {
   "cell_type": "code",
   "execution_count": 14,
   "metadata": {
    "collapsed": false
   },
   "outputs": [],
   "source": [
    "#Scrivo su file i risultati del test di Fermat con i numeri dispari\n",
    "write_onfile(witnesses_f_d,fermat = True)"
   ]
  },
  {
   "cell_type": "markdown",
   "metadata": {},
   "source": [
    "## Witnesses Miller Rabin"
   ]
  },
  {
   "cell_type": "code",
   "execution_count": 15,
   "metadata": {
    "collapsed": true
   },
   "outputs": [],
   "source": [
    "witnesses_mr = []\n",
    "witnesses_mr_d = []"
   ]
  },
  {
   "cell_type": "code",
   "execution_count": 16,
   "metadata": {
    "collapsed": false
   },
   "outputs": [],
   "source": [
    "#Lancio il test di Miller Rabin per i numeri dispari\n",
    "for i in dispari: \n",
    "    w_mr,e_mr = get_mr_witnesses(i)\n",
    "    witnesses_mr.append([w_mr,e_mr])\n",
    "    \n",
    "k=0\n",
    "for i in dispari:\n",
    "    witnesses_mr_d.append([i,witnesses_mr[k][0],witnesses_mr[k][1]])\n",
    "    k+=1\n"
   ]
  },
  {
   "cell_type": "code",
   "execution_count": 17,
   "metadata": {
    "collapsed": false
   },
   "outputs": [],
   "source": [
    "#Scrivo su file i risultati del test di Miler Rabin per i numeri dispari\n",
    "write_onfile(witnesses_mr_d,mr = True)"
   ]
  },
  {
   "cell_type": "markdown",
   "metadata": {},
   "source": []
  },
  {
   "cell_type": "markdown",
   "metadata": {},
   "source": [
    "# 4) Eseguire i programmi su ognuno dei numeri della lista seguente (si tratta dei numeri di Carmichael minori di 100mila) e osservare quale sarebbe la probabilita' di errore nei due test: 561, 1105, 1729, 2465, 2821, 6601, 8911, 10585, 15841, 29341, 41041, 46657, 52633, 62745, 63973, 75361.\n"
   ]
  },
  {
   "cell_type": "code",
   "execution_count": 18,
   "metadata": {
    "collapsed": true
   },
   "outputs": [],
   "source": [
    "carmichael_numbers = [561, 1105, 1729, 2465, 2821, 6601, 8911, 10585, 15841, 29341, 41041, 46657, 52633, 62745, 63973, 75361]"
   ]
  },
  {
   "cell_type": "markdown",
   "metadata": {},
   "source": [
    "## Fermat"
   ]
  },
  {
   "cell_type": "code",
   "execution_count": 19,
   "metadata": {
    "collapsed": true
   },
   "outputs": [],
   "source": [
    "witnesses_fermat_cm = []\n",
    "witnesses_f_d_cm = []"
   ]
  },
  {
   "cell_type": "code",
   "execution_count": 20,
   "metadata": {
    "collapsed": false
   },
   "outputs": [],
   "source": [
    "\n",
    "for i in carmichael_numbers: \n",
    "    w_c_f,e_c_f = get_fermat_witnesses(i)\n",
    "    witnesses_fermat_cm.append([w_c_f,e_c_f])\n",
    "k=0\n",
    "for i in carmichael_numbers:\n",
    "    witnesses_f_d_cm.append([i,witnesses_fermat_cm[k][0],witnesses_fermat_cm[k][1]])\n",
    "    k+=1\n",
    "\n"
   ]
  },
  {
   "cell_type": "code",
   "execution_count": 21,
   "metadata": {
    "collapsed": false
   },
   "outputs": [],
   "source": [
    "\n",
    "write_onfile(witnesses_f_d_cm,fermat = True,carmichael = True)"
   ]
  },
  {
   "cell_type": "markdown",
   "metadata": {},
   "source": [
    "## Miller Rabin"
   ]
  },
  {
   "cell_type": "code",
   "execution_count": 22,
   "metadata": {
    "collapsed": true
   },
   "outputs": [],
   "source": [
    "witnesses_mr_cm = []\n",
    "witnesses_mr_d_cm = []"
   ]
  },
  {
   "cell_type": "code",
   "execution_count": 23,
   "metadata": {
    "collapsed": false
   },
   "outputs": [],
   "source": [
    "for i in carmichael_numbers: \n",
    "    w_c_mr,e_c_mr = get_mr_witnesses(i)\n",
    "    witnesses_mr_cm.append([w_c_mr,e_c_mr])\n",
    "k=0\n",
    "for i in carmichael_numbers:\n",
    "    witnesses_mr_d_cm.append([i,witnesses_mr_cm[k][0],witnesses_mr_cm[k][1]])\n",
    "    k+=1"
   ]
  },
  {
   "cell_type": "code",
   "execution_count": 24,
   "metadata": {
    "collapsed": false
   },
   "outputs": [],
   "source": [
    "write_onfile(witnesses_mr_d_cm,mr = True,carmichael = True)"
   ]
  },
  {
   "cell_type": "code",
   "execution_count": 33,
   "metadata": {
    "collapsed": false
   },
   "outputs": [
    {
     "data": {
      "text/plain": [
       "'\\nscrema(witnesses_mr_d_cm,mr=True,carmichael=True)\\nscrema(witnesses_f_d_cm,fermat = True,carmichael=True)\\nscrema(witnesses_mr_d,mr=True)\\nscrema(witnesses_f_d,fermat = True)\\n'"
      ]
     },
     "execution_count": 33,
     "metadata": {},
     "output_type": "execute_result"
    }
   ],
   "source": [
    "'''\n",
    "screma(witnesses_mr_d_cm,mr=True,carmichael=True)\n",
    "screma(witnesses_f_d_cm,fermat = True,carmichael=True)\n",
    "screma(witnesses_mr_d,mr=True)\n",
    "screma(witnesses_f_d,fermat = True)\n",
    "'''"
   ]
  },
  {
   "cell_type": "markdown",
   "metadata": {
    "collapsed": true
   },
   "source": []
  },
  {
   "cell_type": "code",
   "execution_count": null,
   "metadata": {
    "collapsed": true
   },
   "outputs": [],
   "source": []
  },
  {
   "cell_type": "code",
   "execution_count": null,
   "metadata": {
    "collapsed": false
   },
   "outputs": [],
   "source": []
  },
  {
   "cell_type": "code",
   "execution_count": null,
   "metadata": {
    "collapsed": true
   },
   "outputs": [],
   "source": []
  }
 ],
 "metadata": {
  "anaconda-cloud": {},
  "kernelspec": {
   "display_name": "Python [gl-env]",
   "language": "python",
   "name": "Python [gl-env]"
  },
  "language_info": {
   "codemirror_mode": {
    "name": "ipython",
    "version": 2
   },
   "file_extension": ".py",
   "mimetype": "text/x-python",
   "name": "python",
   "nbconvert_exporter": "python",
   "pygments_lexer": "ipython2",
   "version": "2.7.12"
  }
 },
 "nbformat": 4,
 "nbformat_minor": 0
}
